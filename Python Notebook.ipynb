{
    "cells": [
        {
            "metadata": {},
            "cell_type": "code",
            "source": "\n# @hidden_cell\n# The following code contains the credentials for a file in your IBM Cloud Object Storage.\n# You might want to remove those credentials before you share your notebook.\ncredentials_1 = {\n    'IAM_SERVICE_ID': 'iam-ServiceId-9eb27d67-15e7-4f5c-8384-90d0d9f0344a',\n    'IBM_API_KEY_ID': 'Najj9glSg33oAA4LqwTIB736xtuJuM1tv0bdPvAEuPOi',\n    'ENDPOINT': 'https://s3-api.us-geo.objectstorage.service.networklayer.com',\n    'IBM_AUTH_ENDPOINT': 'https://iam.cloud.ibm.com/oidc/token',\n    'BUCKET': 'myfirstwatsonproject-donotdelete-pr-zrpbhlnf9rog6o',\n    'FILE': '\u4fe1\u606f\u4e2d\u5fc33\u67084\u65e5\u590d\u5de5\u540d\u5355.xlsx'\n}\nimport types\nimport pandas as pd\nfrom botocore.client import Config\nimport ibm_boto3\n\ndef __iter__(self): return 0\n\n# @hidden_cell\n# The following code accesses a file in your IBM Cloud Object Storage. It includes your credentials.\n# You might want to remove those credentials before you share the notebook.\nclient_8bd1efc3eff64dc8bd95663d9ac5266e = ibm_boto3.client(service_name='s3',\n    ibm_api_key_id='Najj9glSg33oAA4LqwTIB736xtuJuM1tv0bdPvAEuPOi',\n    ibm_auth_endpoint=\"https://iam.cloud.ibm.com/oidc/token\",\n    config=Config(signature_version='oauth'),\n    endpoint_url='https://s3-api.us-geo.objectstorage.service.networklayer.com')\n\nbody = client_8bd1efc3eff64dc8bd95663d9ac5266e.get_object(Bucket='myfirstwatsonproject-donotdelete-pr-zrpbhlnf9rog6o',Key='\u4fe1\u606f\u4e2d\u5fc33\u67084\u65e5\u590d\u5de5\u540d\u5355.csv')['Body']\n# add missing __iter__ method, so pandas accepts body as file-like object\nif not hasattr(body, \"__iter__\"): body.__iter__ = types.MethodType( __iter__, body )\n\ndf_data_1 = pd.read_csv(body)\ndf_data_1.head()",
            "execution_count": 3,
            "outputs": [
                {
                    "output_type": "execute_result",
                    "execution_count": 3,
                    "data": {
                        "text/plain": "  3\u67084\u65e5 Unnamed: 1\n0   \u4e0a\u62a5         \u5230\u5c97\n1   \u82cf\u8389        NaN\n2  \u9a6c\u65b9\u821f        NaN\n3   \u5434\u9a8f        NaN\n4  \u5218\u4e9a2        NaN",
                        "text/html": "<div>\n<style scoped>\n    .dataframe tbody tr th:only-of-type {\n        vertical-align: middle;\n    }\n\n    .dataframe tbody tr th {\n        vertical-align: top;\n    }\n\n    .dataframe thead th {\n        text-align: right;\n    }\n</style>\n<table border=\"1\" class=\"dataframe\">\n  <thead>\n    <tr style=\"text-align: right;\">\n      <th></th>\n      <th>3\u67084\u65e5</th>\n      <th>Unnamed: 1</th>\n    </tr>\n  </thead>\n  <tbody>\n    <tr>\n      <th>0</th>\n      <td>\u4e0a\u62a5</td>\n      <td>\u5230\u5c97</td>\n    </tr>\n    <tr>\n      <th>1</th>\n      <td>\u82cf\u8389</td>\n      <td>NaN</td>\n    </tr>\n    <tr>\n      <th>2</th>\n      <td>\u9a6c\u65b9\u821f</td>\n      <td>NaN</td>\n    </tr>\n    <tr>\n      <th>3</th>\n      <td>\u5434\u9a8f</td>\n      <td>NaN</td>\n    </tr>\n    <tr>\n      <th>4</th>\n      <td>\u5218\u4e9a2</td>\n      <td>NaN</td>\n    </tr>\n  </tbody>\n</table>\n</div>"
                    },
                    "metadata": {}
                }
            ]
        },
        {
            "metadata": {},
            "cell_type": "code",
            "source": "",
            "execution_count": null,
            "outputs": []
        },
        {
            "metadata": {},
            "cell_type": "code",
            "source": "",
            "execution_count": null,
            "outputs": []
        },
        {
            "metadata": {},
            "cell_type": "code",
            "source": "",
            "execution_count": null,
            "outputs": []
        }
    ],
    "metadata": {
        "kernelspec": {
            "name": "python3",
            "display_name": "Python 3.7",
            "language": "python"
        },
        "language_info": {
            "name": "python",
            "version": "3.7.9",
            "mimetype": "text/x-python",
            "codemirror_mode": {
                "name": "ipython",
                "version": 3
            },
            "pygments_lexer": "ipython3",
            "nbconvert_exporter": "python",
            "file_extension": ".py"
        }
    },
    "nbformat": 4,
    "nbformat_minor": 1
}